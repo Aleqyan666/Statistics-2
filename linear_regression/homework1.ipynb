{
 "cells": [
  {
   "cell_type": "code",
   "execution_count": 1,
   "id": "e1a444d9",
   "metadata": {},
   "outputs": [],
   "source": [
    "from loguru import logger\n",
    "import pandas as pd\n",
    "import statsmodels.api as sm\n",
    "from scipy import stats"
   ]
  },
  {
   "cell_type": "code",
   "execution_count": 2,
   "id": "5972f1f6",
   "metadata": {},
   "outputs": [],
   "source": [
    "houses = pd.read_excel(\"Houses.xlsx\")\n",
    "trad_homes = houses[houses['Traditional'] == 1]"
   ]
  },
  {
   "cell_type": "markdown",
   "id": "0cad9615",
   "metadata": {},
   "source": [
    "### 1. Linear regression: SalePrice ~ SquareFeet for traditional homes \n"
   ]
  },
  {
   "cell_type": "markdown",
   "id": "46fc7550",
   "metadata": {},
   "source": [
    "H0: slope <= 0, H1: slope > 0, alpha = 0.01\n",
    "Reject H0 if p-value < 0.01"
   ]
  },
  {
   "cell_type": "code",
   "execution_count": 3,
   "id": "38d77480",
   "metadata": {},
   "outputs": [
    {
     "name": "stderr",
     "output_type": "stream",
     "text": [
      "\u001b[32m2025-09-06 20:55:19.920\u001b[0m | \u001b[32m\u001b[1mSUCCESS \u001b[0m | \u001b[36m__main__\u001b[0m:\u001b[36m<module>\u001b[0m:\u001b[36m5\u001b[0m - \u001b[32m\u001b[1m\n",
      "                            OLS Regression Results                            \n",
      "==============================================================================\n",
      "Dep. Variable:              SalePrice   R-squared:                       0.639\n",
      "Model:                            OLS   Adj. R-squared:                  0.639\n",
      "Method:                 Least Squares   F-statistic:                     1028.\n",
      "Date:                Sat, 06 Sep 2025   Prob (F-statistic):          1.56e-130\n",
      "Time:                        20:55:19   Log-Likelihood:                -7106.4\n",
      "No. Observations:                 582   AIC:                         1.422e+04\n",
      "Df Residuals:                     580   BIC:                         1.423e+04\n",
      "Df Model:                           1                                         \n",
      "Covariance Type:            nonrobust                                         \n",
      "==============================================================================\n",
      "                 coef    std err          t      P>|t|      [0.025      0.975]\n",
      "------------------------------------------------------------------------------\n",
      "const      -2.841e+04   5728.161     -4.959      0.000   -3.97e+04   -1.72e+04\n",
      "SquareFeet    73.7719      2.301     32.061      0.000      69.253      78.291\n",
      "==============================================================================\n",
      "Omnibus:                      397.093   Durbin-Watson:                   1.539\n",
      "Prob(Omnibus):                  0.000   Jarque-Bera (JB):            15764.198\n",
      "Skew:                           2.447   Prob(JB):                         0.00\n",
      "Kurtosis:                      28.022   Cond. No.                     7.07e+03\n",
      "==============================================================================\n",
      "\n",
      "Notes:\n",
      "[1] Standard Errors assume that the covariance matrix of the errors is correctly specified.\n",
      "[2] The condition number is large, 7.07e+03. This might indicate that there are\n",
      "strong multicollinearity or other numerical problems.\u001b[0m\n"
     ]
    }
   ],
   "source": [
    "X = trad_homes['SquareFeet']\n",
    "X = sm.add_constant(X) \n",
    "y = trad_homes['SalePrice']\n",
    "model = sm.OLS(y, X).fit()\n",
    "logger.success(f\"\\n{model.summary()}\")"
   ]
  },
  {
   "cell_type": "markdown",
   "id": "08ff1fdb",
   "metadata": {},
   "source": [
    "### 2. Hypothesis Test on Expected Sale Price for Non-Modern Homes:"
   ]
  },
  {
   "cell_type": "markdown",
   "id": "f90a0414",
   "metadata": {},
   "source": [
    "##### Test the null hypothesis that the expected price of a nonmodern home with 1500 square feet is less than or equal to $100,000."
   ]
  },
  {
   "cell_type": "code",
   "execution_count": 4,
   "id": "c2e37ad1",
   "metadata": {},
   "outputs": [
    {
     "name": "stderr",
     "output_type": "stream",
     "text": [
      "\u001b[32m2025-09-06 20:55:19.943\u001b[0m | \u001b[1mINFO    \u001b[0m | \u001b[36m__main__\u001b[0m:\u001b[36m<module>\u001b[0m:\u001b[36m5\u001b[0m - \u001b[1m\n",
      "          mean    mean_se  mean_ci_lower  mean_ci_upper  obs_ci_lower  \\\n",
      "0  82250.36379  2778.1901   75070.597006   89430.130575 -43767.615305   \n",
      "\n",
      "    obs_ci_upper  \n",
      "0  208268.342885  \u001b[0m\n",
      "\u001b[32m2025-09-06 20:55:19.945\u001b[0m | \u001b[1mINFO    \u001b[0m | \u001b[36m__main__\u001b[0m:\u001b[36m<module>\u001b[0m:\u001b[36m11\u001b[0m - \u001b[1mp value = 0.9999999998284276\u001b[0m\n",
      "\u001b[32m2025-09-06 20:55:19.946\u001b[0m | \u001b[31m\u001b[1mERROR   \u001b[0m | \u001b[36m__main__\u001b[0m:\u001b[36m<module>\u001b[0m:\u001b[36m15\u001b[0m - \u001b[31m\u001b[1mFailed to reject the hypothesis\u001b[0m\n"
     ]
    }
   ],
   "source": [
    "X2 = pd.DataFrame({'SquareFeet': [1500]})\n",
    "X2 = sm.add_constant(X2, has_constant='add')\n",
    "pred = model.get_prediction(X2)\n",
    "pred_summary = pred.summary_frame(alpha=0.01)\n",
    "logger.info(f\"\\n{pred_summary}\")\n",
    "pred_mean = pred.predicted_mean[0]\n",
    "pred_se = pred.se_mean[0]\n",
    "t_stat = (pred_mean - 100000) / pred_se\n",
    "df = model.df_resid\n",
    "p_value = 1 - stats.t.cdf(t_stat, df)\n",
    "logger.info(f'p value = {p_value}')\n",
    "if p_value < 0.1:\n",
    "    logger.success('The hypothesis is rejected')\n",
    "else:\n",
    "    logger.error('Failed to reject the hypothesis')"
   ]
  },
  {
   "cell_type": "markdown",
   "id": "41b3ec06",
   "metadata": {},
   "source": [
    "### 3. Construct a 95% interval estimate of the expected price of traditional house of 1500 square feet"
   ]
  },
  {
   "cell_type": "code",
   "execution_count": 5,
   "id": "b672e23b",
   "metadata": {},
   "outputs": [
    {
     "name": "stderr",
     "output_type": "stream",
     "text": [
      "\u001b[32m2025-09-06 20:55:19.962\u001b[0m | \u001b[32m\u001b[1mSUCCESS \u001b[0m | \u001b[36m__main__\u001b[0m:\u001b[36m<module>\u001b[0m:\u001b[36m5\u001b[0m - \u001b[32m\u001b[1m\n",
      "          mean    mean_se  mean_ci_lower  mean_ci_upper  obs_ci_lower  \\\n",
      "0  82250.36379  2778.1901   76793.824768   87706.902813 -13521.830643   \n",
      "\n",
      "    obs_ci_upper  \n",
      "0  178022.558223  \u001b[0m\n"
     ]
    }
   ],
   "source": [
    "X_new = pd.DataFrame({'SquareFeet': [1500]})\n",
    "X_new = sm.add_constant(X_new, has_constant='add')  \n",
    "prediction = model.get_prediction(X_new)\n",
    "pred_summary = prediction.summary_frame(alpha=0.05)  \n",
    "logger.success(f\"\\n{pred_summary}\")"
   ]
  },
  {
   "cell_type": "markdown",
   "id": "b65ae048",
   "metadata": {},
   "source": [
    "### 4. Quadratic Regression for Traditional style homes"
   ]
  },
  {
   "cell_type": "code",
   "execution_count": 6,
   "id": "c9a09510",
   "metadata": {},
   "outputs": [
    {
     "name": "stderr",
     "output_type": "stream",
     "text": [
      "C:\\Users\\hayka\\AppData\\Local\\Temp\\ipykernel_12108\\2333049047.py:1: SettingWithCopyWarning: \n",
      "A value is trying to be set on a copy of a slice from a DataFrame.\n",
      "Try using .loc[row_indexer,col_indexer] = value instead\n",
      "\n",
      "See the caveats in the documentation: https://pandas.pydata.org/pandas-docs/stable/user_guide/indexing.html#returning-a-view-versus-a-copy\n",
      "  trad_homes['SquareFeet2'] = trad_homes['SquareFeet']**2\n"
     ]
    }
   ],
   "source": [
    "trad_homes['SquareFeet2'] = trad_homes['SquareFeet']**2\n",
    "X = trad_homes[['SquareFeet', 'SquareFeet2']]\n",
    "X = sm.add_constant(X)  \n",
    "y = trad_homes['SalePrice']\n",
    "quad_model = sm.OLS(y, X).fit()"
   ]
  },
  {
   "cell_type": "markdown",
   "id": "1815a92d",
   "metadata": {},
   "source": [
    "#### Test 1: at 1500 sq ft"
   ]
  },
  {
   "cell_type": "code",
   "execution_count": 7,
   "id": "974751b6",
   "metadata": {},
   "outputs": [
    {
     "name": "stderr",
     "output_type": "stream",
     "text": [
      "\u001b[32m2025-09-06 20:55:19.994\u001b[0m | \u001b[1mINFO    \u001b[0m | \u001b[36m__main__\u001b[0m:\u001b[36m<module>\u001b[0m:\u001b[36m6\u001b[0m - \u001b[1mAt 1500 sq ft: t=-4.009546354737429, p=3.439825307923216e-05\u001b[0m\n",
      "\u001b[32m2025-09-06 20:55:19.995\u001b[0m | \u001b[32m\u001b[1mSUCCESS \u001b[0m | \u001b[36m__main__\u001b[0m:\u001b[36m<module>\u001b[0m:\u001b[36m8\u001b[0m - \u001b[32m\u001b[1mReject H0: Marginal effect is significantly less than $60\u001b[0m\n"
     ]
    }
   ],
   "source": [
    "L_1500 = [0, 1, 2*1500] \n",
    "test_1500 = quad_model.t_test((L_1500, 60))  # H0: marginal effect = 60\n",
    "t_stat_1500 = test_1500.tvalue[0][0]\n",
    "p_value_1500 = stats.t.cdf(t_stat_1500, quad_model.df_resid)  # one-sided (Ha: < 60)\n",
    "\n",
    "logger.info(f\"At 1500 sq ft: t={t_stat_1500}, p={p_value_1500}\")\n",
    "if p_value_1500 < 0.01:\n",
    "    logger.success(\"Reject H0: Marginal effect is significantly less than $60\")\n",
    "else:\n",
    "    logger.error(\"Fail to reject H0\")"
   ]
  },
  {
   "cell_type": "markdown",
   "id": "073b14b1",
   "metadata": {},
   "source": [
    "#### Test 2: at 3000 sq ft"
   ]
  },
  {
   "cell_type": "code",
   "execution_count": 8,
   "id": "e3112429",
   "metadata": {},
   "outputs": [
    {
     "name": "stderr",
     "output_type": "stream",
     "text": [
      "\u001b[32m2025-09-06 20:55:20.011\u001b[0m | \u001b[1mINFO    \u001b[0m | \u001b[36m__main__\u001b[0m:\u001b[36m<module>\u001b[0m:\u001b[36m6\u001b[0m - \u001b[1mAt 3000 sq ft: t=6.158236925290441, p=0.9999999993118289\u001b[0m\n",
      "\u001b[32m2025-09-06 20:55:20.013\u001b[0m | \u001b[31m\u001b[1mERROR   \u001b[0m | \u001b[36m__main__\u001b[0m:\u001b[36m<module>\u001b[0m:\u001b[36m10\u001b[0m - \u001b[31m\u001b[1mFail to reject H0\u001b[0m\n"
     ]
    }
   ],
   "source": [
    "L_3000 = [0, 1, 2*3000]\n",
    "test_3000 = quad_model.t_test((L_3000, 60))\n",
    "t_stat_3000 = test_3000.tvalue[0][0]\n",
    "p_value_3000 = stats.t.cdf(t_stat_3000, quad_model.df_resid)\n",
    "\n",
    "logger.info(f\"At 3000 sq ft: t={t_stat_3000}, p={p_value_3000}\")\n",
    "if p_value_3000 < 0.01:\n",
    "    logger.success(\"Reject H0: Marginal effect is significantly less than $60\")\n",
    "else:\n",
    "    logger.error(\"Fail to reject H0\")"
   ]
  }
 ],
 "metadata": {
  "kernelspec": {
   "display_name": "Python 3",
   "language": "python",
   "name": "python3"
  },
  "language_info": {
   "codemirror_mode": {
    "name": "ipython",
    "version": 3
   },
   "file_extension": ".py",
   "mimetype": "text/x-python",
   "name": "python",
   "nbconvert_exporter": "python",
   "pygments_lexer": "ipython3",
   "version": "3.13.5"
  }
 },
 "nbformat": 4,
 "nbformat_minor": 5
}
