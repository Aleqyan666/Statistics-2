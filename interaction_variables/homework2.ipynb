{
 "cells": [
  {
   "cell_type": "code",
   "execution_count": 1,
   "id": "f26a6a08",
   "metadata": {},
   "outputs": [],
   "source": [
    "import pandas as pd\n",
    "import numpy as np\n",
    "import matplotlib.pyplot as plt\n",
    "import statsmodels.api as sm\n",
    "import statsmodels.formula.api as smf\n",
    "from loguru import logger"
   ]
  },
  {
   "cell_type": "code",
   "execution_count": 2,
   "id": "5f493acb",
   "metadata": {},
   "outputs": [
    {
     "data": {
      "text/plain": [
       "Index(['price', 'livarea', 'beds', 'baths', 'lgelot', 'age', 'pool'], dtype='object')"
      ]
     },
     "execution_count": 2,
     "metadata": {},
     "output_type": "execute_result"
    }
   ],
   "source": [
    "df = pd.read_csv(\"stockton.csv\")    \n",
    "df.columns   "
   ]
  },
  {
   "cell_type": "markdown",
   "id": "9a996f97",
   "metadata": {},
   "source": [
    "### (a) Histogram of PRICE and ln(PRICE)"
   ]
  },
  {
   "cell_type": "code",
   "execution_count": 3,
   "id": "05c03705",
   "metadata": {},
   "outputs": [
    {
     "data": {
      "image/png": "[encoded data removed]",
      "text/plain": [
       "<Figure size 1000x400 with 2 Axes>"
      ]
     },
     "metadata": {},
     "output_type": "display_data"
    }
   ],
   "source": [
    "df['ln_price'] = np.log(df['price'])\n",
    "df['ln_price_k'] = np.log(df['price'] / 1000)\n",
    "\n",
    "plt.figure(figsize=(10,4))\n",
    "plt.subplot(1,2,1)\n",
    "plt.hist(df['price'], bins=40)\n",
    "plt.title(\"Histogram of PRICE\")\n",
    "plt.xlabel(\"PRICE ($)\")\n",
    "\n",
    "plt.subplot(1,2,2)\n",
    "plt.hist(df['ln_price'], bins=40)\n",
    "plt.title(\"Histogram of ln(PRICE)\")\n",
    "plt.xlabel(\"ln(PRICE)\")\n",
    "plt.tight_layout()\n",
    "plt.show()"
   ]
  },
  {
   "cell_type": "markdown",
   "id": "61c94580",
   "metadata": {},
   "source": [
    "### (b) Regression of ln(PRICE/1000) on predictors"
   ]
  },
  {
   "cell_type": "code",
   "execution_count": 4,
   "id": "58d9654d",
   "metadata": {},
   "outputs": [
    {
     "name": "stderr",
     "output_type": "stream",
     "text": [
      "\u001b[32m2025-09-17 23:20:10.368\u001b[0m | \u001b[1mINFO    \u001b[0m | \u001b[36m__main__\u001b[0m:\u001b[36m<module>\u001b[0m:\u001b[36m3\u001b[0m - \u001b[1m=== Part (b) Results ===\u001b[0m\n",
      "\u001b[32m2025-09-17 23:20:10.377\u001b[0m | \u001b[32m\u001b[1mSUCCESS \u001b[0m | \u001b[36m__main__\u001b[0m:\u001b[36m<module>\u001b[0m:\u001b[36m4\u001b[0m - \u001b[32m\u001b[1m                            OLS Regression Results                            \n",
      "==============================================================================\n",
      "Dep. Variable:             ln_price_k   R-squared:                       0.688\n",
      "Model:                            OLS   Adj. R-squared:                  0.687\n",
      "Method:                 Least Squares   F-statistic:                     290.6\n",
      "Date:                Wed, 17 Sep 2025   Prob (F-statistic):          1.15e-246\n",
      "Time:                        23:20:10   Log-Likelihood:                 196.13\n",
      "No. Observations:                1500   AIC:                            -378.3\n",
      "Df Residuals:                    1493   BIC:                            -341.1\n",
      "Df Model:                           6                                         \n",
      "Covariance Type:                  HC1                                         \n",
      "==============================================================================\n",
      "                 coef    std err          z      P>|z|      [0.025      0.975]\n",
      "------------------------------------------------------------------------------\n",
      "Intercept      3.9860      0.041     97.410      0.000       3.906       4.066\n",
      "livarea        0.0539      0.002     22.765      0.000       0.049       0.059\n",
      "beds          -0.0382      0.013     -2.863      0.004      -0.064      -0.012\n",
      "baths         -0.0103      0.022     -0.467      0.641      -0.053       0.033\n",
      "lgelot         0.2531      0.032      7.870      0.000       0.190       0.316\n",
      "age           -0.0013      0.001     -2.460      0.014      -0.002      -0.000\n",
      "pool           0.0787      0.024      3.222      0.001       0.031       0.127\n",
      "==============================================================================\n",
      "Omnibus:                      228.398   Durbin-Watson:                   1.303\n",
      "Prob(Omnibus):                  0.000   Jarque-Bera (JB):             3044.172\n",
      "Skew:                           0.199   Prob(JB):                         0.00\n",
      "Kurtosis:                       9.968   Cond. No.                         210.\n",
      "==============================================================================\n",
      "\n",
      "Notes:\n",
      "[1] Standard Errors are heteroscedasticity robust (HC1)\u001b[0m\n"
     ]
    }
   ],
   "source": [
    "model_b = smf.ols(\"ln_price_k ~ livarea + beds + baths + lgelot + age + pool\", data=df)\n",
    "res_b = model_b.fit(cov_type=\"HC1\")\n",
    "logger.info(\"=== Part (b) Results ===\")\n",
    "logger.success(res_b.summary())"
   ]
  },
  {
   "cell_type": "markdown",
   "id": "a78732cd",
   "metadata": {},
   "source": [
    "### (c) Effect of large lot size"
   ]
  },
  {
   "cell_type": "code",
   "execution_count": 5,
   "id": "96dd62aa",
   "metadata": {},
   "outputs": [
    {
     "name": "stderr",
     "output_type": "stream",
     "text": [
      "\u001b[32m2025-09-17 23:20:10.393\u001b[0m | \u001b[1mINFO    \u001b[0m | \u001b[36m__main__\u001b[0m:\u001b[36m<module>\u001b[0m:\u001b[36m6\u001b[0m - \u001b[1m\n",
      "=== Part (c) Large Lot Effect ===\u001b[0m\n",
      "\u001b[32m2025-09-17 23:20:10.394\u001b[0m | \u001b[32m\u001b[1mSUCCESS \u001b[0m | \u001b[36m__main__\u001b[0m:\u001b[36m<module>\u001b[0m:\u001b[36m7\u001b[0m - \u001b[32m\u001b[1mLGELOT coefficient = 0.2531\u001b[0m\n",
      "\u001b[32m2025-09-17 23:20:10.395\u001b[0m | \u001b[34m\u001b[1mDEBUG   \u001b[0m | \u001b[36m__main__\u001b[0m:\u001b[36m<module>\u001b[0m:\u001b[36m8\u001b[0m - \u001b[34m\u001b[1mInterpretation: Large lot adds about 28.80% to price (95% CI: 20.93%, 37.18%).\u001b[0m\n"
     ]
    }
   ],
   "source": [
    "beta_l = res_b.params['lgelot']\n",
    "se_l = res_b.bse['lgelot']\n",
    "pct = 100*(np.exp(beta_l)-1)\n",
    "ci_low = 100*(np.exp(beta_l - 1.96*se_l)-1)\n",
    "ci_high = 100*(np.exp(beta_l + 1.96*se_l)-1)\n",
    "logger.info(\"\\n=== Part (c) Large Lot Effect ===\")\n",
    "logger.success(f\"LGELOT coefficient = {beta_l:.4f}\")\n",
    "logger.debug(f\"Interpretation: Large lot adds about {pct:.2f}% to price (95% CI: {ci_low:.2f}%, {ci_high:.2f}%).\")"
   ]
  },
  {
   "cell_type": "markdown",
   "id": "b4339fd5",
   "metadata": {},
   "source": [
    "### (d) Interaction LGELOT * LIVAREA"
   ]
  },
  {
   "cell_type": "code",
   "execution_count": 6,
   "id": "5354fc38",
   "metadata": {},
   "outputs": [
    {
     "name": "stderr",
     "output_type": "stream",
     "text": [
      "\u001b[32m2025-09-17 23:20:10.429\u001b[0m | \u001b[1mINFO    \u001b[0m | \u001b[36m__main__\u001b[0m:\u001b[36m<module>\u001b[0m:\u001b[36m3\u001b[0m - \u001b[1m\n",
      "=== Part (d) Results ===\u001b[0m\n",
      "\u001b[32m2025-09-17 23:20:10.437\u001b[0m | \u001b[32m\u001b[1mSUCCESS \u001b[0m | \u001b[36m__main__\u001b[0m:\u001b[36m<module>\u001b[0m:\u001b[36m4\u001b[0m - \u001b[32m\u001b[1m                            OLS Regression Results                            \n",
      "==============================================================================\n",
      "Dep. Variable:             ln_price_k   R-squared:                       0.696\n",
      "Model:                            OLS   Adj. R-squared:                  0.695\n",
      "Method:                 Least Squares   F-statistic:                     334.0\n",
      "Date:                Wed, 17 Sep 2025   Prob (F-statistic):          5.21e-300\n",
      "Time:                        23:20:10   Log-Likelihood:                 215.31\n",
      "No. Observations:                1500   AIC:                            -414.6\n",
      "Df Residuals:                    1492   BIC:                            -372.1\n",
      "Df Model:                           7                                         \n",
      "Covariance Type:                  HC1                                         \n",
      "==================================================================================\n",
      "                     coef    std err          z      P>|z|      [0.025      0.975]\n",
      "----------------------------------------------------------------------------------\n",
      "Intercept          3.9649      0.041     96.473      0.000       3.884       4.045\n",
      "livarea            0.0589      0.002     26.543      0.000       0.055       0.063\n",
      "beds              -0.0480      0.013     -3.678      0.000      -0.074      -0.022\n",
      "baths             -0.0201      0.022     -0.932      0.351      -0.062       0.022\n",
      "lgelot             0.6134      0.083      7.348      0.000       0.450       0.777\n",
      "age               -0.0016      0.001     -3.175      0.001      -0.003      -0.001\n",
      "pool               0.0853      0.024      3.607      0.000       0.039       0.132\n",
      "lgelot:livarea    -0.0161      0.004     -4.468      0.000      -0.023      -0.009\n",
      "==============================================================================\n",
      "Omnibus:                      235.777   Durbin-Watson:                   1.369\n",
      "Prob(Omnibus):                  0.000   Jarque-Bera (JB):             3105.592\n",
      "Skew:                           0.255   Prob(JB):                         0.00\n",
      "Kurtosis:                      10.031   Cond. No.                         348.\n",
      "==============================================================================\n",
      "\n",
      "Notes:\n",
      "[1] Standard Errors are heteroscedasticity robust (HC1)\u001b[0m\n"
     ]
    }
   ],
   "source": [
    "model_d = smf.ols(\"ln_price_k ~ livarea + beds + baths + lgelot + age + pool + lgelot:livarea\", data=df)\n",
    "res_d = model_d.fit(cov_type=\"HC1\")\n",
    "logger.info(\"\\n=== Part (d) Results ===\")\n",
    "logger.success(res_d.summary())"
   ]
  },
  {
   "cell_type": "markdown",
   "id": "cee8e7aa",
   "metadata": {},
   "source": [
    "### (e) Joint hypothesis test: beds & baths"
   ]
  },
  {
   "cell_type": "code",
   "execution_count": 7,
   "id": "94876fcf",
   "metadata": {},
   "outputs": [
    {
     "name": "stderr",
     "output_type": "stream",
     "text": [
      "\u001b[32m2025-09-17 23:20:10.451\u001b[0m | \u001b[1mINFO    \u001b[0m | \u001b[36m__main__\u001b[0m:\u001b[36m<module>\u001b[0m:\u001b[36m2\u001b[0m - \u001b[1m\n",
      "=== Part (e) F-test for BEDS and BATHS ===\u001b[0m\n",
      "\u001b[32m2025-09-17 23:20:10.452\u001b[0m | \u001b[32m\u001b[1mSUCCESS \u001b[0m | \u001b[36m__main__\u001b[0m:\u001b[36m<module>\u001b[0m:\u001b[36m3\u001b[0m - \u001b[32m\u001b[1m<F test: F=4.6818211639873955, p=0.009398541305379792, df_denom=1.49e+03, df_num=2>\u001b[0m\n"
     ]
    }
   ],
   "source": [
    "f_test_e = res_b.f_test(\"beds = 0, baths = 0\")\n",
    "logger.info(\"\\n=== Part (e) F-test for BEDS and BATHS ===\")\n",
    "logger.success(f_test_e)"
   ]
  },
  {
   "cell_type": "markdown",
   "id": "37671e85",
   "metadata": {},
   "source": [
    "### (f) Drop baths and re-estimate"
   ]
  },
  {
   "cell_type": "code",
   "execution_count": 8,
   "id": "ab3c2088",
   "metadata": {},
   "outputs": [
    {
     "name": "stderr",
     "output_type": "stream",
     "text": [
      "\u001b[32m2025-09-17 23:20:10.475\u001b[0m | \u001b[1mINFO    \u001b[0m | \u001b[36m__main__\u001b[0m:\u001b[36m<module>\u001b[0m:\u001b[36m3\u001b[0m - \u001b[1m\n",
      "=== Part (f) Results ===\u001b[0m\n",
      "\u001b[32m2025-09-17 23:20:10.481\u001b[0m | \u001b[32m\u001b[1mSUCCESS \u001b[0m | \u001b[36m__main__\u001b[0m:\u001b[36m<module>\u001b[0m:\u001b[36m4\u001b[0m - \u001b[32m\u001b[1m                            OLS Regression Results                            \n",
      "==============================================================================\n",
      "Dep. Variable:             ln_price_k   R-squared:                       0.688\n",
      "Model:                            OLS   Adj. R-squared:                  0.687\n",
      "Method:                 Least Squares   F-statistic:                     335.9\n",
      "Date:                Wed, 17 Sep 2025   Prob (F-statistic):          2.30e-241\n",
      "Time:                        23:20:10   Log-Likelihood:                 195.94\n",
      "No. Observations:                1500   AIC:                            -379.9\n",
      "Df Residuals:                    1494   BIC:                            -348.0\n",
      "Df Model:                           5                                         \n",
      "Covariance Type:                  HC1                                         \n",
      "==============================================================================\n",
      "                 coef    std err          z      P>|z|      [0.025      0.975]\n",
      "------------------------------------------------------------------------------\n",
      "Intercept      3.9764      0.037    107.283      0.000       3.904       4.049\n",
      "livarea        0.0533      0.002     28.832      0.000       0.050       0.057\n",
      "beds          -0.0394      0.013     -3.018      0.003      -0.065      -0.014\n",
      "lgelot         0.2546      0.032      7.848      0.000       0.191       0.318\n",
      "age           -0.0012      0.000     -2.525      0.012      -0.002      -0.000\n",
      "pool           0.0782      0.024      3.211      0.001       0.030       0.126\n",
      "==============================================================================\n",
      "Omnibus:                      226.254   Durbin-Watson:                   1.301\n",
      "Prob(Omnibus):                  0.000   Jarque-Bera (JB):             2954.730\n",
      "Skew:                           0.200   Prob(JB):                         0.00\n",
      "Kurtosis:                       9.864   Cond. No.                         190.\n",
      "==============================================================================\n",
      "\n",
      "Notes:\n",
      "[1] Standard Errors are heteroscedasticity robust (HC1)\u001b[0m\n"
     ]
    }
   ],
   "source": [
    "model_f = smf.ols(\"ln_price_k ~ livarea + beds + lgelot + age + pool\", data=df)\n",
    "res_f = model_f.fit(cov_type=\"HC1\")\n",
    "logger.info(\"\\n=== Part (f) Results ===\")\n",
    "logger.success(res_f.summary())"
   ]
  },
  {
   "cell_type": "code",
   "execution_count": 9,
   "id": "50e09f0b",
   "metadata": {},
   "outputs": [
    {
     "name": "stderr",
     "output_type": "stream",
     "text": [
      "\u001b[32m2025-09-17 23:20:10.497\u001b[0m | \u001b[1mINFO    \u001b[0m | \u001b[36m__main__\u001b[0m:\u001b[36m<module>\u001b[0m:\u001b[36m1\u001b[0m - \u001b[1m\n",
      "Pool effect comparison:\u001b[0m\n",
      "\u001b[32m2025-09-17 23:20:10.499\u001b[0m | \u001b[34m\u001b[1mDEBUG   \u001b[0m | \u001b[36m__main__\u001b[0m:\u001b[36m<module>\u001b[0m:\u001b[36m2\u001b[0m - \u001b[34m\u001b[1mWith baths: 0.0787\u001b[0m\n",
      "\u001b[32m2025-09-17 23:20:10.500\u001b[0m | \u001b[31m\u001b[1mERROR   \u001b[0m | \u001b[36m__main__\u001b[0m:\u001b[36m<module>\u001b[0m:\u001b[36m3\u001b[0m - \u001b[31m\u001b[1mWithout baths: 0.0782\u001b[0m\n"
     ]
    }
   ],
   "source": [
    "logger.info(\"\\nPool effect comparison:\")\n",
    "logger.debug(f\"With baths: {res_b.params['pool']:.4f}\")\n",
    "logger.error(f\"Without baths: {res_f.params['pool']:.4f}\")"
   ]
  },
  {
   "cell_type": "markdown",
   "id": "8d6e7842",
   "metadata": {},
   "source": [
    "### (g) Transform AGE to categories"
   ]
  },
  {
   "cell_type": "code",
   "execution_count": 10,
   "id": "a94c11fb",
   "metadata": {},
   "outputs": [
    {
     "name": "stderr",
     "output_type": "stream",
     "text": [
      "\u001b[32m2025-09-17 23:20:10.531\u001b[0m | \u001b[1mINFO    \u001b[0m | \u001b[36m__main__\u001b[0m:\u001b[36m<module>\u001b[0m:\u001b[36m10\u001b[0m - \u001b[1m\n",
      "=== Part (g) Results ===\u001b[0m\n",
      "\u001b[32m2025-09-17 23:20:10.538\u001b[0m | \u001b[32m\u001b[1mSUCCESS \u001b[0m | \u001b[36m__main__\u001b[0m:\u001b[36m<module>\u001b[0m:\u001b[36m11\u001b[0m - \u001b[32m\u001b[1m                            OLS Regression Results                            \n",
      "==============================================================================\n",
      "Dep. Variable:             ln_price_k   R-squared:                       0.698\n",
      "Model:                            OLS   Adj. R-squared:                  0.696\n",
      "Method:                 Least Squares   F-statistic:                     222.3\n",
      "Date:                Wed, 17 Sep 2025   Prob (F-statistic):          6.57e-248\n",
      "Time:                        23:20:10   Log-Likelihood:                 219.24\n",
      "No. Observations:                1500   AIC:                            -420.5\n",
      "Df Residuals:                    1491   BIC:                            -372.7\n",
      "Df Model:                           8                                         \n",
      "Covariance Type:                  HC1                                         \n",
      "=======================================================================================\n",
      "                          coef    std err          z      P>|z|      [0.025      0.975]\n",
      "---------------------------------------------------------------------------------------\n",
      "Intercept               4.0387      0.040    101.331      0.000       3.961       4.117\n",
      "age_11_20[T.True]      -0.1089      0.013     -8.683      0.000      -0.133      -0.084\n",
      "age_21_40[T.True]      -0.0626      0.015     -4.076      0.000      -0.093      -0.032\n",
      "age_41_plus[T.True]    -0.0932      0.024     -3.808      0.000      -0.141      -0.045\n",
      "livarea                 0.0537      0.002     22.585      0.000       0.049       0.058\n",
      "beds                   -0.0435      0.013     -3.274      0.001      -0.069      -0.017\n",
      "baths                  -0.0064      0.023     -0.285      0.776      -0.051       0.038\n",
      "lgelot                  0.2502      0.032      7.757      0.000       0.187       0.313\n",
      "pool                    0.0822      0.024      3.421      0.001       0.035       0.129\n",
      "==============================================================================\n",
      "Omnibus:                      236.120   Durbin-Watson:                   1.351\n",
      "Prob(Omnibus):                  0.000   Jarque-Bera (JB):             3483.332\n",
      "Skew:                           0.175   Prob(JB):                         0.00\n",
      "Kurtosis:                      10.457   Cond. No.                         137.\n",
      "==============================================================================\n",
      "\n",
      "Notes:\n",
      "[1] Standard Errors are heteroscedasticity robust (HC1)\u001b[0m\n"
     ]
    }
   ],
   "source": [
    "bins = [-1, 10, 20, 40, 1e9]\n",
    "labels = ['0_10', '11_20', '21_40', '41_plus']\n",
    "df['age_cat'] = pd.cut(df['age'], bins=bins, labels=labels)\n",
    "\n",
    "age_dummies = pd.get_dummies(df['age_cat'], prefix='age', drop_first=True)\n",
    "df = pd.concat([df, age_dummies], axis=1)\n",
    "\n",
    "model_g = smf.ols(\"ln_price_k ~ livarea + beds + baths + lgelot + pool + age_11_20 + age_21_40 + age_41_plus\", data=df)\n",
    "res_g = model_g.fit(cov_type=\"HC1\")\n",
    "logger.info(\"\\n=== Part (g) Results ===\")\n",
    "logger.success(res_g.summary())"
   ]
  }
 ],
 "metadata": {
  "kernelspec": {
   "display_name": "Python 3",
   "language": "python",
   "name": "python3"
  },
  "language_info": {
   "codemirror_mode": {
    "name": "ipython",
    "version": 3
   },
   "file_extension": ".py",
   "mimetype": "text/x-python",
   "name": "python",
   "nbconvert_exporter": "python",
   "pygments_lexer": "ipython3",
   "version": "3.13.5"
  }
 },
 "nbformat": 4,
 "nbformat_minor": 5
}
