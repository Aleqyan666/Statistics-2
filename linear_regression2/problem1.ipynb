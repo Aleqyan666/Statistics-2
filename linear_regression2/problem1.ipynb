{
 "cells": [
  {
   "cell_type": "markdown",
   "id": "d3ca5fcc",
   "metadata": {},
   "source": [
    "### Import Necesary Libraries"
   ]
  },
  {
   "cell_type": "code",
   "execution_count": 1,
   "id": "4e200a3a",
   "metadata": {},
   "outputs": [],
   "source": [
    "import pandas as pd\n",
    "import statsmodels.formula.api as smf\n",
    "from loguru import logger"
   ]
  },
  {
   "cell_type": "code",
   "execution_count": 2,
   "id": "dfa14173",
   "metadata": {},
   "outputs": [
    {
     "data": {
      "text/plain": [
       "Index(['cityid', 'cityname', 'year', 'izlaw', 'izlaw_d', 'izyear', 'avgprice',\n",
       "       'lnprice', 'units', 'lnunits', 'hhlds', 'lnhhlds', 'pop', 'lpop',\n",
       "       'density', 'medhhinc', 'lmedhhinc', 'educattain', 'proppoverty',\n",
       "       'meantttw', 'prop65', 'dlnprice', 'dlnunits', 'dlmedhhinc', 'ddensity',\n",
       "       'deducattain', 'dproppoverty', 'dmeantttw', 'dprop65', 'dpop', 'dlpop'],\n",
       "      dtype='object')"
      ]
     },
     "execution_count": 2,
     "metadata": {},
     "output_type": "execute_result"
    }
   ],
   "source": [
    "df = pd.read_excel(\"means.xlsx\")\n",
    "df.columns"
   ]
  },
  {
   "cell_type": "markdown",
   "id": "4bb6395f",
   "metadata": {},
   "source": [
    "#### (a) Regression:"
   ]
  },
  {
   "cell_type": "code",
   "execution_count": null,
   "id": "dffa3f49",
   "metadata": {},
   "outputs": [
    {
     "name": "stderr",
     "output_type": "stream",
     "text": [
      "\u001b[32m2025-09-27 12:14:22.512\u001b[0m | \u001b[1mINFO    \u001b[0m | \u001b[36m__main__\u001b[0m:\u001b[36m<module>\u001b[0m:\u001b[36m2\u001b[0m - \u001b[1m                            OLS Regression Results                            \n",
      "==============================================================================\n",
      "Dep. Variable:               dlnprice   R-squared:                       0.141\n",
      "Model:                            OLS   Adj. R-squared:                  0.139\n",
      "Method:                 Least Squares   F-statistic:                     50.88\n",
      "Date:                Sat, 27 Sep 2025   Prob (F-statistic):           7.00e-12\n",
      "Time:                        12:14:22   Log-Likelihood:                -13.189\n",
      "No. Observations:                 311   AIC:                             30.38\n",
      "Df Residuals:                     309   BIC:                             37.86\n",
      "Df Model:                           1                                         \n",
      "Covariance Type:            nonrobust                                         \n",
      "==============================================================================\n",
      "                 coef    std err          t      P>|t|      [0.025      0.975]\n",
      "------------------------------------------------------------------------------\n",
      "Intercept      0.2205      0.015     14.518      0.000       0.191       0.250\n",
      "izlaw          0.3326      0.047      7.133      0.000       0.241       0.424\n",
      "==============================================================================\n",
      "Omnibus:                       17.579   Durbin-Watson:                   1.923\n",
      "Prob(Omnibus):                  0.000   Jarque-Bera (JB):               45.682\n",
      "Skew:                           0.146   Prob(JB):                     1.20e-10\n",
      "Kurtosis:                       4.855   Cond. No.                         3.29\n",
      "==============================================================================\n",
      "\n",
      "Notes:\n",
      "[1] Standard Errors assume that the covariance matrix of the errors is correctly specified.\u001b[0m\n",
      "\u001b[32m2025-09-27 12:14:22.531\u001b[0m | \u001b[1mINFO    \u001b[0m | \u001b[36m__main__\u001b[0m:\u001b[36m<module>\u001b[0m:\u001b[36m5\u001b[0m - \u001b[1m                            OLS Regression Results                            \n",
      "==============================================================================\n",
      "Dep. Variable:               dlnunits   R-squared:                       0.002\n",
      "Model:                            OLS   Adj. R-squared:                 -0.001\n",
      "Method:                 Least Squares   F-statistic:                    0.7361\n",
      "Date:                Sat, 27 Sep 2025   Prob (F-statistic):              0.392\n",
      "Time:                        12:14:22   Log-Likelihood:                 62.091\n",
      "No. Observations:                 311   AIC:                            -120.2\n",
      "Df Residuals:                     309   BIC:                            -112.7\n",
      "Df Model:                           1                                         \n",
      "Covariance Type:            nonrobust                                         \n",
      "==============================================================================\n",
      "                 coef    std err          t      P>|t|      [0.025      0.975]\n",
      "------------------------------------------------------------------------------\n",
      "Intercept      0.1273      0.012     10.671      0.000       0.104       0.151\n",
      "izlaw         -0.0314      0.037     -0.858      0.392      -0.103       0.041\n",
      "==============================================================================\n",
      "Omnibus:                      193.712   Durbin-Watson:                   1.894\n",
      "Prob(Omnibus):                  0.000   Jarque-Bera (JB):             2524.538\n",
      "Skew:                           2.316   Prob(JB):                         0.00\n",
      "Kurtosis:                      16.167   Cond. No.                         3.29\n",
      "==============================================================================\n",
      "\n",
      "Notes:\n",
      "[1] Standard Errors assume that the covariance matrix of the errors is correctly specified.\u001b[0m\n"
     ]
    }
   ],
   "source": [
    "model_price_diff = smf.ols(\"dlnprice ~ izlaw\", data=df).fit()\n",
    "logger.info(model_price_diff.summary())"
   ]
  },
  {
   "cell_type": "code",
   "execution_count": 6,
   "id": "569ba538",
   "metadata": {},
   "outputs": [
    {
     "name": "stderr",
     "output_type": "stream",
     "text": [
      "\u001b[32m2025-09-27 12:25:27.954\u001b[0m | \u001b[1mINFO    \u001b[0m | \u001b[36m__main__\u001b[0m:\u001b[36m<module>\u001b[0m:\u001b[36m2\u001b[0m - \u001b[1m                            OLS Regression Results                            \n",
      "==============================================================================\n",
      "Dep. Variable:               dlnunits   R-squared:                       0.002\n",
      "Model:                            OLS   Adj. R-squared:                 -0.001\n",
      "Method:                 Least Squares   F-statistic:                    0.7361\n",
      "Date:                Sat, 27 Sep 2025   Prob (F-statistic):              0.392\n",
      "Time:                        12:25:27   Log-Likelihood:                 62.091\n",
      "No. Observations:                 311   AIC:                            -120.2\n",
      "Df Residuals:                     309   BIC:                            -112.7\n",
      "Df Model:                           1                                         \n",
      "Covariance Type:            nonrobust                                         \n",
      "==============================================================================\n",
      "                 coef    std err          t      P>|t|      [0.025      0.975]\n",
      "------------------------------------------------------------------------------\n",
      "Intercept      0.1273      0.012     10.671      0.000       0.104       0.151\n",
      "izlaw         -0.0314      0.037     -0.858      0.392      -0.103       0.041\n",
      "==============================================================================\n",
      "Omnibus:                      193.712   Durbin-Watson:                   1.894\n",
      "Prob(Omnibus):                  0.000   Jarque-Bera (JB):             2524.538\n",
      "Skew:                           2.316   Prob(JB):                         0.00\n",
      "Kurtosis:                      16.167   Cond. No.                         3.29\n",
      "==============================================================================\n",
      "\n",
      "Notes:\n",
      "[1] Standard Errors assume that the covariance matrix of the errors is correctly specified.\u001b[0m\n"
     ]
    }
   ],
   "source": [
    "model_units_diff = smf.ols(\"dlnunits ~ izlaw\", data=df).fit()\n",
    "logger.info(model_units_diff.summary())"
   ]
  },
  {
   "cell_type": "code",
   "execution_count": 7,
   "id": "9de4a346",
   "metadata": {},
   "outputs": [
    {
     "name": "stdout",
     "output_type": "stream",
     "text": [
      "                            OLS Regression Results                            \n",
      "==============================================================================\n",
      "Dep. Variable:                lnprice   R-squared:                       0.113\n",
      "Model:                            OLS   Adj. R-squared:                  0.109\n",
      "Method:                 Least Squares   F-statistic:                     26.31\n",
      "Date:                Sat, 27 Sep 2025   Prob (F-statistic):           5.01e-16\n",
      "Time:                        12:25:28   Log-Likelihood:                -500.20\n",
      "No. Observations:                 622   AIC:                             1008.\n",
      "Df Residuals:                     618   BIC:                             1026.\n",
      "Df Model:                           3                                         \n",
      "Covariance Type:            nonrobust                                         \n",
      "==============================================================================\n",
      "                 coef    std err          t      P>|t|      [0.025      0.975]\n",
      "------------------------------------------------------------------------------\n",
      "Intercept     12.0646      0.033    370.785      0.000      12.001      12.128\n",
      "year           0.2205      0.046      4.793      0.000       0.130       0.311\n",
      "izlaw          0.2737      0.100      2.740      0.006       0.078       0.470\n",
      "year:izlaw     0.3326      0.141      2.355      0.019       0.055       0.610\n",
      "==============================================================================\n",
      "Omnibus:                       26.108   Durbin-Watson:                   1.018\n",
      "Prob(Omnibus):                  0.000   Jarque-Bera (JB):               35.200\n",
      "Skew:                           0.384   Prob(JB):                     2.27e-08\n",
      "Kurtosis:                       3.876   Cond. No.                         8.61\n",
      "==============================================================================\n",
      "\n",
      "Notes:\n",
      "[1] Standard Errors assume that the covariance matrix of the errors is correctly specified.\n"
     ]
    }
   ],
   "source": [
    "model_price_did = smf.ols(\"lnprice ~ year + izlaw + year:izlaw\", data=df).fit()\n",
    "print(model_price_did.summary())"
   ]
  },
  {
   "cell_type": "code",
   "execution_count": 8,
   "id": "dd9290b2",
   "metadata": {},
   "outputs": [
    {
     "name": "stdout",
     "output_type": "stream",
     "text": [
      "                            OLS Regression Results                            \n",
      "==============================================================================\n",
      "Dep. Variable:                lnunits   R-squared:                       0.026\n",
      "Model:                            OLS   Adj. R-squared:                  0.021\n",
      "Method:                 Least Squares   F-statistic:                     5.535\n",
      "Date:                Sat, 27 Sep 2025   Prob (F-statistic):           0.000939\n",
      "Time:                        12:25:28   Log-Likelihood:                -853.15\n",
      "No. Observations:                 622   AIC:                             1714.\n",
      "Df Residuals:                     618   BIC:                             1732.\n",
      "Df Model:                           3                                         \n",
      "Covariance Type:            nonrobust                                         \n",
      "==============================================================================\n",
      "                 coef    std err          t      P>|t|      [0.025      0.975]\n",
      "------------------------------------------------------------------------------\n",
      "Intercept      9.4176      0.057    164.100      0.000       9.305       9.530\n",
      "year           0.1273      0.081      1.568      0.117      -0.032       0.287\n",
      "izlaw          0.4815      0.176      2.733      0.006       0.136       0.828\n",
      "year:izlaw    -0.0314      0.249     -0.126      0.900      -0.521       0.458\n",
      "==============================================================================\n",
      "Omnibus:                       66.396   Durbin-Watson:                   1.047\n",
      "Prob(Omnibus):                  0.000   Jarque-Bera (JB):              112.425\n",
      "Skew:                           0.694   Prob(JB):                     3.87e-25\n",
      "Kurtosis:                       4.553   Cond. No.                         8.61\n",
      "==============================================================================\n",
      "\n",
      "Notes:\n",
      "[1] Standard Errors assume that the covariance matrix of the errors is correctly specified.\n"
     ]
    }
   ],
   "source": [
    "model_units_did = smf.ols(\"lnunits ~ year + izlaw + year:izlaw\", data=df).fit()\n",
    "print(model_units_did.summary())"
   ]
  },
  {
   "cell_type": "markdown",
   "id": "ed9fed7d",
   "metadata": {},
   "source": [
    "#### b) βΔ​=(YˉT1​−YˉT0​)−(YˉC1​−YˉC0​)=θ."
   ]
  },
  {
   "cell_type": "markdown",
   "id": "7384c557",
   "metadata": {},
   "source": [
    "When regressing ΔY on IZLAW, the slope is exactly β3, the DiD estimate."
   ]
  },
  {
   "cell_type": "markdown",
   "id": "e24cb25b",
   "metadata": {},
   "source": [
    "### (c) Add DLMEDHHINC as control"
   ]
  },
  {
   "cell_type": "code",
   "execution_count": 10,
   "id": "74432da1",
   "metadata": {},
   "outputs": [
    {
     "name": "stderr",
     "output_type": "stream",
     "text": [
      "\u001b[32m2025-09-27 12:26:00.073\u001b[0m | \u001b[1mINFO    \u001b[0m | \u001b[36m__main__\u001b[0m:\u001b[36m<module>\u001b[0m:\u001b[36m2\u001b[0m - \u001b[1m                            OLS Regression Results                            \n",
      "==============================================================================\n",
      "Dep. Variable:               dlnprice   R-squared:                       0.355\n",
      "Model:                            OLS   Adj. R-squared:                  0.351\n",
      "Method:                 Least Squares   F-statistic:                     84.70\n",
      "Date:                Sat, 27 Sep 2025   Prob (F-statistic):           4.89e-30\n",
      "Time:                        12:26:00   Log-Likelihood:                 31.255\n",
      "No. Observations:                 311   AIC:                            -56.51\n",
      "Df Residuals:                     308   BIC:                            -45.29\n",
      "Df Model:                           2                                         \n",
      "Covariance Type:            nonrobust                                         \n",
      "==============================================================================\n",
      "                 coef    std err          t      P>|t|      [0.025      0.975]\n",
      "------------------------------------------------------------------------------\n",
      "Intercept     -0.1439      0.038     -3.744      0.000      -0.220      -0.068\n",
      "izlaw          0.2397      0.042      5.773      0.000       0.158       0.321\n",
      "dlmedhhinc     1.2801      0.127     10.094      0.000       1.031       1.530\n",
      "==============================================================================\n",
      "Omnibus:                       34.942   Durbin-Watson:                   1.834\n",
      "Prob(Omnibus):                  0.000   Jarque-Bera (JB):              114.275\n",
      "Skew:                          -0.430   Prob(JB):                     1.53e-25\n",
      "Kurtosis:                       5.843   Cond. No.                         11.1\n",
      "==============================================================================\n",
      "\n",
      "Notes:\n",
      "[1] Standard Errors assume that the covariance matrix of the errors is correctly specified.\u001b[0m\n"
     ]
    }
   ],
   "source": [
    "model_price_diff_inc = smf.ols(\"dlnprice ~ izlaw + dlmedhhinc\", data=df).fit()\n",
    "logger.info(model_price_diff_inc.summary())"
   ]
  },
  {
   "cell_type": "markdown",
   "id": "e4c2deb7",
   "metadata": {},
   "source": [
    "### (d) Add education, poverty, population controls"
   ]
  },
  {
   "cell_type": "code",
   "execution_count": 11,
   "id": "92693f71",
   "metadata": {},
   "outputs": [
    {
     "name": "stderr",
     "output_type": "stream",
     "text": [
      "\u001b[32m2025-09-27 12:26:19.071\u001b[0m | \u001b[1mINFO    \u001b[0m | \u001b[36m__main__\u001b[0m:\u001b[36m<module>\u001b[0m:\u001b[36m5\u001b[0m - \u001b[1m                            OLS Regression Results                            \n",
      "==============================================================================\n",
      "Dep. Variable:               dlnprice   R-squared:                       0.502\n",
      "Model:                            OLS   Adj. R-squared:                  0.494\n",
      "Method:                 Least Squares   F-statistic:                     61.56\n",
      "Date:                Sat, 27 Sep 2025   Prob (F-statistic):           3.16e-44\n",
      "Time:                        12:26:19   Log-Likelihood:                 71.608\n",
      "No. Observations:                 311   AIC:                            -131.2\n",
      "Df Residuals:                     305   BIC:                            -108.8\n",
      "Df Model:                           5                                         \n",
      "Covariance Type:            nonrobust                                         \n",
      "================================================================================\n",
      "                   coef    std err          t      P>|t|      [0.025      0.975]\n",
      "--------------------------------------------------------------------------------\n",
      "Intercept       -0.1494      0.048     -3.106      0.002      -0.244      -0.055\n",
      "izlaw            0.1896      0.037      5.106      0.000       0.117       0.263\n",
      "dlmedhhinc       1.0372      0.148      7.017      0.000       0.746       1.328\n",
      "deducattain      1.1841      0.183      6.478      0.000       0.824       1.544\n",
      "dproppoverty    -0.3238      0.561     -0.577      0.564      -1.428       0.780\n",
      "dlpop           -0.2445      0.053     -4.627      0.000      -0.348      -0.141\n",
      "==============================================================================\n",
      "Omnibus:                       27.459   Durbin-Watson:                   1.917\n",
      "Prob(Omnibus):                  0.000   Jarque-Bera (JB):              120.215\n",
      "Skew:                          -0.015   Prob(JB):                     7.86e-27\n",
      "Kurtosis:                       6.046   Cond. No.                         55.2\n",
      "==============================================================================\n",
      "\n",
      "Notes:\n",
      "[1] Standard Errors assume that the covariance matrix of the errors is correctly specified.\u001b[0m\n"
     ]
    }
   ],
   "source": [
    "model_price_diff_full = smf.ols(\n",
    "    \"dlnprice ~ izlaw + dlmedhhinc + deducattain + dproppoverty + dlpop\", \n",
    "    data=df\n",
    ").fit()\n",
    "logger.info(model_price_diff_full.summary())"
   ]
  }
 ],
 "metadata": {
  "kernelspec": {
   "display_name": "Python 3",
   "language": "python",
   "name": "python3"
  },
  "language_info": {
   "codemirror_mode": {
    "name": "ipython",
    "version": 3
   },
   "file_extension": ".py",
   "mimetype": "text/x-python",
   "name": "python",
   "nbconvert_exporter": "python",
   "pygments_lexer": "ipython3",
   "version": "3.13.5"
  }
 },
 "nbformat": 4,
 "nbformat_minor": 5
}
