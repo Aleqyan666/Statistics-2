{
 "cells": [
  {
   "cell_type": "markdown",
   "id": "3161946e",
   "metadata": {},
   "source": [
    "*By what method the coefficients are estimated in a model of dependent variable\n",
    "following the Poisson distribution?*\n",
    "\n",
    "**Answer:** d) Maximizing the log-likelihood function"
   ]
  },
  {
   "cell_type": "markdown",
   "id": "db83de42",
   "metadata": {},
   "source": [
    "*Differences between Linear and Logistic Regression with dummy dependent variable*\n",
    "\n",
    "**Answer:** \n",
    "\t\n",
    "**Linear Regression** assumes the dependent variable is **continuous**. \n",
    "**Logistic Regression** assumes the dependent variable is **binary** **(0/1)**.\n",
    "\n",
    "**Linear Regression** sses *Ordinary Least Squares (OLS)* for estimation.\n",
    "**Logistic Regression** sses *Maximum Likelihood Estimation (MLE)* for estimation. "
   ]
  },
  {
   "cell_type": "markdown",
   "id": "bac15640",
   "metadata": {},
   "source": [
    "### Import Libraries"
   ]
  },
  {
   "cell_type": "code",
   "execution_count": 1,
   "id": "26728f23",
   "metadata": {},
   "outputs": [],
   "source": [
    "import pandas as pd\n",
    "import statsmodels.formula.api as smf\n",
    "from loguru import logger"
   ]
  },
  {
   "cell_type": "code",
   "execution_count": 2,
   "id": "02626a15",
   "metadata": {},
   "outputs": [],
   "source": [
    "df = pd.read_csv(\"employment_08_09.csv\")\n",
    "\n",
    "df[\"white\"] = (df[\"race\"] == 1).astype(int)\n",
    "df[\"age2\"] = df[\"age\"] ** 2"
   ]
  },
  {
   "cell_type": "code",
   "execution_count": 6,
   "id": "4ff3697d",
   "metadata": {},
   "outputs": [
    {
     "name": "stderr",
     "output_type": "stream",
     "text": [
      "\u001b[32m2025-10-08 21:27:19.510\u001b[0m | \u001b[32m\u001b[1mSUCCESS \u001b[0m | \u001b[36m__main__\u001b[0m:\u001b[36m<module>\u001b[0m:\u001b[36m3\u001b[0m - \u001b[32m\u001b[1m\n",
      "                           Logit Regression Results                           \n",
      "==============================================================================\n",
      "Dep. Variable:               employed   No. Observations:                 5412\n",
      "Model:                          Logit   Df Residuals:                     5407\n",
      "Method:                           MLE   Df Model:                            4\n",
      "Date:                Wed, 08 Oct 2025   Pseudo R-squ.:                 0.02698\n",
      "Time:                        21:27:19   Log-Likelihood:                -1979.3\n",
      "converged:                       True   LL-Null:                       -2034.2\n",
      "Covariance Type:            nonrobust   LLR p-value:                 8.199e-23\n",
      "==============================================================================\n",
      "                 coef    std err          z      P>|z|      [0.025      0.975]\n",
      "------------------------------------------------------------------------------\n",
      "Intercept     -2.6722      0.449     -5.946      0.000      -3.553      -1.791\n",
      "age            0.2263      0.023      9.900      0.000       0.181       0.271\n",
      "age2          -0.0026      0.000     -9.547      0.000      -0.003      -0.002\n",
      "white          0.3252      0.106      3.055      0.002       0.117       0.534\n",
      "female        -0.1838      0.083     -2.203      0.028      -0.347      -0.020\n",
      "==============================================================================\u001b[0m\n"
     ]
    },
    {
     "name": "stdout",
     "output_type": "stream",
     "text": [
      "Optimization terminated successfully.\n",
      "         Current function value: 0.365730\n",
      "         Iterations 6\n"
     ]
    }
   ],
   "source": [
    "model = smf.logit(\"employed ~ age + age2 + white + female\", data=df)\n",
    "result = model.fit()\n",
    "logger.success(f\"\\n{result.summary()}\")"
   ]
  },
  {
   "cell_type": "markdown",
   "id": "8790c3e5",
   "metadata": {},
   "source": [
    "**Intercept:** Negative, meaning very low baseline employment probability. \n",
    "\n",
    "**Age:** Positive and highly significant: as age increases, log-odds of employment increase.\n",
    "\n",
    " **White:** Positive and significant: being white increases log-odds of employment compared to non-whites.\n",
    "\n",
    " **Female:** Negative and statistically significant: being female reduces log-odds of employment compared to males.\n",
    "  \n",
    " **Age^2:** Negative and highly significant: the effect of age is nonlinear. Employment probability rises with age  initially but then slows down and eventually declines."
   ]
  },
  {
   "cell_type": "markdown",
   "id": "b0c63b14",
   "metadata": {},
   "source": [
    "### c) What is the odd ratio for non-white female of age 30? "
   ]
  },
  {
   "cell_type": "code",
   "execution_count": 7,
   "id": "7f803019",
   "metadata": {},
   "outputs": [
    {
     "name": "stderr",
     "output_type": "stream",
     "text": [
      "\u001b[32m2025-10-08 21:27:31.361\u001b[0m | \u001b[32m\u001b[1mSUCCESS \u001b[0m | \u001b[36m__main__\u001b[0m:\u001b[36m<module>\u001b[0m:\u001b[36m11\u001b[0m - \u001b[32m\u001b[1m\n",
      "Odds ratio (non-white female age 30): 4.749696308251459\u001b[0m\n"
     ]
    }
   ],
   "source": [
    "person_30 = pd.DataFrame({\n",
    "    \"age\": [30],\n",
    "    \"age2\": [30**2],\n",
    "    \"white\": [0],   # non-white\n",
    "    \"female\": [1]   # female\n",
    "})\n",
    "\n",
    "prob_30 = result.predict(person_30)[0]\n",
    "odds_30 = prob_30 / (1 - prob_30)\n",
    "\n",
    "logger.success(f\"\\nOdds ratio (non-white female age 30): {odds_30}\")"
   ]
  },
  {
   "cell_type": "markdown",
   "id": "d64617ec",
   "metadata": {},
   "source": [
    "### d) What is the probability that the white male of age 35 is employed? "
   ]
  },
  {
   "cell_type": "code",
   "execution_count": 8,
   "id": "71c15a71",
   "metadata": {},
   "outputs": [
    {
     "name": "stderr",
     "output_type": "stream",
     "text": [
      "\u001b[32m2025-10-08 21:27:41.561\u001b[0m | \u001b[32m\u001b[1mSUCCESS \u001b[0m | \u001b[36m__main__\u001b[0m:\u001b[36m<module>\u001b[0m:\u001b[36m9\u001b[0m - \u001b[32m\u001b[1m\n",
      "Probability (white male age 35): 0.9122244260202702\u001b[0m\n"
     ]
    }
   ],
   "source": [
    "person_35 = pd.DataFrame({\n",
    "    \"age\": [35],\n",
    "    \"age2\": [35**2],\n",
    "    \"white\": [1],   # white\n",
    "    \"female\": [0]   # male\n",
    "})\n",
    "\n",
    "prob_35 = result.predict(person_35)[0]\n",
    "logger.success(f\"\\nProbability (white male age 35): {prob_35}\")"
   ]
  }
 ],
 "metadata": {
  "kernelspec": {
   "display_name": "Python 3",
   "language": "python",
   "name": "python3"
  },
  "language_info": {
   "codemirror_mode": {
    "name": "ipython",
    "version": 3
   },
   "file_extension": ".py",
   "mimetype": "text/x-python",
   "name": "python",
   "nbconvert_exporter": "python",
   "pygments_lexer": "ipython3",
   "version": "3.13.5"
  }
 },
 "nbformat": 4,
 "nbformat_minor": 5
}
