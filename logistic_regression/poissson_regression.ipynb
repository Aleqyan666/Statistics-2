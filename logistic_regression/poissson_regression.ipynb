{
 "cells": [
  {
   "cell_type": "code",
   "execution_count": 55,
   "id": "396367e9",
   "metadata": {},
   "outputs": [],
   "source": [
    "import pandas as pd\n",
    "import numpy as np\n",
    "import statsmodels.formula.api as smf\n",
    "from statsmodels.genmod import families\n",
    "from loguru import logger"
   ]
  },
  {
   "cell_type": "code",
   "execution_count": 56,
   "id": "c35e2f3a",
   "metadata": {},
   "outputs": [
    {
     "data": {
      "text/html": [
       "<div>\n",
       "<style scoped>\n",
       "    .dataframe tbody tr th:only-of-type {\n",
       "        vertical-align: middle;\n",
       "    }\n",
       "\n",
       "    .dataframe tbody tr th {\n",
       "        vertical-align: top;\n",
       "    }\n",
       "\n",
       "    .dataframe thead th {\n",
       "        text-align: right;\n",
       "    }\n",
       "</style>\n",
       "<table border=\"1\" class=\"dataframe\">\n",
       "  <thead>\n",
       "    <tr style=\"text-align: right;\">\n",
       "      <th></th>\n",
       "      <th>educ</th>\n",
       "      <th>cigpric</th>\n",
       "      <th>white</th>\n",
       "      <th>age</th>\n",
       "      <th>income</th>\n",
       "      <th>cigs</th>\n",
       "      <th>restaurn</th>\n",
       "      <th>lincome</th>\n",
       "      <th>agesq</th>\n",
       "      <th>lcigpric</th>\n",
       "    </tr>\n",
       "  </thead>\n",
       "  <tbody>\n",
       "    <tr>\n",
       "      <th>0</th>\n",
       "      <td>16.0</td>\n",
       "      <td>60.506</td>\n",
       "      <td>1</td>\n",
       "      <td>46</td>\n",
       "      <td>20000</td>\n",
       "      <td>0</td>\n",
       "      <td>0</td>\n",
       "      <td>9.903487</td>\n",
       "      <td>2116</td>\n",
       "      <td>4.102743</td>\n",
       "    </tr>\n",
       "    <tr>\n",
       "      <th>1</th>\n",
       "      <td>16.0</td>\n",
       "      <td>57.883</td>\n",
       "      <td>1</td>\n",
       "      <td>40</td>\n",
       "      <td>30000</td>\n",
       "      <td>0</td>\n",
       "      <td>0</td>\n",
       "      <td>10.308950</td>\n",
       "      <td>1600</td>\n",
       "      <td>4.058424</td>\n",
       "    </tr>\n",
       "    <tr>\n",
       "      <th>2</th>\n",
       "      <td>12.0</td>\n",
       "      <td>57.664</td>\n",
       "      <td>1</td>\n",
       "      <td>58</td>\n",
       "      <td>30000</td>\n",
       "      <td>3</td>\n",
       "      <td>0</td>\n",
       "      <td>10.308950</td>\n",
       "      <td>3364</td>\n",
       "      <td>4.054633</td>\n",
       "    </tr>\n",
       "    <tr>\n",
       "      <th>3</th>\n",
       "      <td>13.5</td>\n",
       "      <td>57.883</td>\n",
       "      <td>1</td>\n",
       "      <td>30</td>\n",
       "      <td>20000</td>\n",
       "      <td>0</td>\n",
       "      <td>0</td>\n",
       "      <td>9.903487</td>\n",
       "      <td>900</td>\n",
       "      <td>4.058424</td>\n",
       "    </tr>\n",
       "    <tr>\n",
       "      <th>4</th>\n",
       "      <td>10.0</td>\n",
       "      <td>58.320</td>\n",
       "      <td>1</td>\n",
       "      <td>17</td>\n",
       "      <td>20000</td>\n",
       "      <td>0</td>\n",
       "      <td>0</td>\n",
       "      <td>9.903487</td>\n",
       "      <td>289</td>\n",
       "      <td>4.065945</td>\n",
       "    </tr>\n",
       "  </tbody>\n",
       "</table>\n",
       "</div>"
      ],
      "text/plain": [
       "   educ  cigpric  white  age  income  cigs  restaurn    lincome  agesq  \\\n",
       "0  16.0   60.506      1   46   20000     0         0   9.903487   2116   \n",
       "1  16.0   57.883      1   40   30000     0         0  10.308950   1600   \n",
       "2  12.0   57.664      1   58   30000     3         0  10.308950   3364   \n",
       "3  13.5   57.883      1   30   20000     0         0   9.903487    900   \n",
       "4  10.0   58.320      1   17   20000     0         0   9.903487    289   \n",
       "\n",
       "   lcigpric  \n",
       "0  4.102743  \n",
       "1  4.058424  \n",
       "2  4.054633  \n",
       "3  4.058424  \n",
       "4  4.065945  "
      ]
     },
     "execution_count": 56,
     "metadata": {},
     "output_type": "execute_result"
    }
   ],
   "source": [
    "df = pd.read_excel(\"smoke.xlsx\")\n",
    "df.head()"
   ]
  },
  {
   "cell_type": "markdown",
   "id": "2a0e5fcd",
   "metadata": {},
   "source": [
    "#### Transformations"
   ]
  },
  {
   "cell_type": "code",
   "execution_count": 57,
   "id": "b6502d79",
   "metadata": {},
   "outputs": [],
   "source": [
    "df['log_cigpric'] = np.log(df['cigpric'])\n",
    "df['log_income'] = np.log(df['income'])\n",
    "df['age2'] = df['age']**2"
   ]
  },
  {
   "cell_type": "code",
   "execution_count": 58,
   "id": "2fd5214e",
   "metadata": {},
   "outputs": [
    {
     "name": "stderr",
     "output_type": "stream",
     "text": [
      "\u001b[32m2025-10-08 21:44:00.320\u001b[0m | \u001b[1mINFO    \u001b[0m | \u001b[36m__main__\u001b[0m:\u001b[36m<module>\u001b[0m:\u001b[36m7\u001b[0m - \u001b[1m\n",
      "                 Generalized Linear Model Regression Results                  \n",
      "==============================================================================\n",
      "Dep. Variable:                   cigs   No. Observations:                  807\n",
      "Model:                            GLM   Df Residuals:                      800\n",
      "Model Family:                 Poisson   Df Model:                            6\n",
      "Link Function:                    Log   Scale:                          1.0000\n",
      "Method:                          IRLS   Log-Likelihood:                -8184.0\n",
      "Date:                Wed, 08 Oct 2025   Deviance:                       14897.\n",
      "Time:                        21:44:00   Pearson chi2:                 1.65e+04\n",
      "No. Iterations:                     5   Pseudo R-squ. (CS):             0.6816\n",
      "Covariance Type:            nonrobust                                         \n",
      "===============================================================================\n",
      "                  coef    std err          z      P>|z|      [0.025      0.975]\n",
      "-------------------------------------------------------------------------------\n",
      "Intercept       1.4628      0.615      2.380      0.017       0.258       2.667\n",
      "log_cigpric    -0.3553      0.144     -2.468      0.014      -0.637      -0.073\n",
      "log_income      0.0846      0.020      4.209      0.000       0.045       0.124\n",
      "white          -0.0019      0.037     -0.051      0.959      -0.075       0.071\n",
      "educ           -0.0601      0.004    -14.209      0.000      -0.068      -0.052\n",
      "age             0.1152      0.005     23.220      0.000       0.105       0.125\n",
      "age2           -0.0014   5.69e-05    -24.247      0.000      -0.001      -0.001\n",
      "===============================================================================\u001b[0m\n"
     ]
    }
   ],
   "source": [
    "poisson_model = smf.glm(\n",
    "    formula='cigs ~ log_cigpric + log_income + white + educ + age + age2',\n",
    "    data=df,\n",
    "    family=families.Poisson()\n",
    ").fit()\n",
    "\n",
    "logger.info(f\"\\n{poisson_model.summary()}\")"
   ]
  },
  {
   "cell_type": "markdown",
   "id": "ea14f510",
   "metadata": {},
   "source": [
    "### Elasticities of `cig` & `income`"
   ]
  },
  {
   "cell_type": "code",
   "execution_count": 59,
   "id": "e1ca1b4c",
   "metadata": {},
   "outputs": [
    {
     "name": "stderr",
     "output_type": "stream",
     "text": [
      "\u001b[32m2025-10-08 21:44:00.328\u001b[0m | \u001b[1mINFO    \u001b[0m | \u001b[36m__main__\u001b[0m:\u001b[36m<module>\u001b[0m:\u001b[36m2\u001b[0m - \u001b[1m\n",
      "Price elasticity: -0.35525307831881137\u001b[0m\n"
     ]
    }
   ],
   "source": [
    "price_elasticity = poisson_model.params['log_cigpric']\n",
    "logger.info(f\"\\nPrice elasticity: {price_elasticity}\")"
   ]
  },
  {
   "cell_type": "code",
   "execution_count": 60,
   "id": "10265922",
   "metadata": {},
   "outputs": [
    {
     "name": "stderr",
     "output_type": "stream",
     "text": [
      "\u001b[32m2025-10-08 21:44:00.338\u001b[0m | \u001b[1mINFO    \u001b[0m | \u001b[36m__main__\u001b[0m:\u001b[36m<module>\u001b[0m:\u001b[36m2\u001b[0m - \u001b[1m\n",
      "Income elasticity: 0.084632685261314\u001b[0m\n"
     ]
    }
   ],
   "source": [
    "income_elasticity = poisson_model.params['log_income']\n",
    "logger.info(f\"\\nIncome elasticity: {income_elasticity}\")"
   ]
  },
  {
   "cell_type": "markdown",
   "id": "df01843d",
   "metadata": {},
   "source": [
    "### Fitting Values, Max & Min"
   ]
  },
  {
   "cell_type": "code",
   "execution_count": 61,
   "id": "19f8d7f3",
   "metadata": {},
   "outputs": [
    {
     "name": "stderr",
     "output_type": "stream",
     "text": [
      "\u001b[32m2025-10-08 21:44:00.350\u001b[0m | \u001b[1mINFO    \u001b[0m | \u001b[36m__main__\u001b[0m:\u001b[36m<module>\u001b[0m:\u001b[36m3\u001b[0m - \u001b[1m\n",
      "Min fitted value: 0.5150122521426221\n",
      "Max fitted value: 18.83566970474354\u001b[0m\n"
     ]
    }
   ],
   "source": [
    "df['y_hat'] = poisson_model.fittedvalues\n",
    "\n",
    "logger.info(f\"\\nMin fitted value: {df['y_hat'].min()}\" \n",
    "            f\"\\nMax fitted value: {df['y_hat'].max()}\")"
   ]
  },
  {
   "cell_type": "code",
   "execution_count": 62,
   "id": "624c5654",
   "metadata": {},
   "outputs": [
    {
     "name": "stdout",
     "output_type": "stream",
     "text": [
      "count    807.000000\n",
      "mean       8.686493\n",
      "std       13.721516\n",
      "min        0.000000\n",
      "25%        0.000000\n",
      "50%        0.000000\n",
      "75%       20.000000\n",
      "max       80.000000\n",
      "Name: cigs, dtype: float64\n"
     ]
    }
   ],
   "source": [
    "print(df['cigs'].describe())"
   ]
  },
  {
   "cell_type": "markdown",
   "id": "171cc507",
   "metadata": {},
   "source": []
  },
  {
   "cell_type": "code",
   "execution_count": 63,
   "id": "4abb2b26",
   "metadata": {},
   "outputs": [
    {
     "name": "stderr",
     "output_type": "stream",
     "text": [
      "\u001b[32m2025-10-08 21:44:00.373\u001b[0m | \u001b[1mINFO    \u001b[0m | \u001b[36m__main__\u001b[0m:\u001b[36m<module>\u001b[0m:\u001b[36m5\u001b[0m - \u001b[1m\n",
      "Median income: 20000.0\u001b[0m\n"
     ]
    }
   ],
   "source": [
    "median_income = df['income'].median()\n",
    "median_educ = df['educ'].median()\n",
    "median_age = df['age'].median()\n",
    "median_age2 = median_age ** 2  \n",
    "logger.info(f\"\\nMedian income: {median_income}\")"
   ]
  },
  {
   "cell_type": "code",
   "execution_count": 64,
   "id": "7bdce489",
   "metadata": {},
   "outputs": [
    {
     "name": "stderr",
     "output_type": "stream",
     "text": [
      "\u001b[32m2025-10-08 21:44:00.384\u001b[0m | \u001b[1mINFO    \u001b[0m | \u001b[36m__main__\u001b[0m:\u001b[36m<module>\u001b[0m:\u001b[36m2\u001b[0m - \u001b[1m\n",
      "75th percentile cig price: 63.179\u001b[0m\n"
     ]
    }
   ],
   "source": [
    "p75_cigpric = df['cigpric'].quantile(0.75)\n",
    "logger.info(f\"\\n75th percentile cig price: {p75_cigpric}\")"
   ]
  },
  {
   "cell_type": "code",
   "execution_count": 65,
   "id": "f2724ab4",
   "metadata": {},
   "outputs": [],
   "source": [
    "baseline = pd.DataFrame({\n",
    "    'log_cigpric': [np.log(df['cigpric'].median())],  \n",
    "    'log_income': [np.log(median_income)],\n",
    "    'white': [1],\n",
    "    'educ': [median_educ],\n",
    "    'age': [median_age],\n",
    "    'age2': [median_age2]\n",
    "})"
   ]
  },
  {
   "cell_type": "code",
   "execution_count": 66,
   "id": "1a4ffdf2",
   "metadata": {},
   "outputs": [
    {
     "name": "stderr",
     "output_type": "stream",
     "text": [
      "\u001b[32m2025-10-08 21:44:00.411\u001b[0m | \u001b[1mINFO    \u001b[0m | \u001b[36m__main__\u001b[0m:\u001b[36m<module>\u001b[0m:\u001b[36m2\u001b[0m - \u001b[1m\n",
      "Predicted mean cigarettes smoked (baseline): 12.229488591188288\u001b[0m\n"
     ]
    }
   ],
   "source": [
    "baseline_pred = poisson_model.predict(baseline)\n",
    "logger.info(f\"\\nPredicted mean cigarettes smoked (baseline): {baseline_pred.iloc[0]}\")"
   ]
  },
  {
   "cell_type": "markdown",
   "id": "54b09a9c",
   "metadata": {},
   "source": [
    "### Predict with price at **75th** percentile"
   ]
  },
  {
   "cell_type": "code",
   "execution_count": 67,
   "id": "f32a9c41",
   "metadata": {},
   "outputs": [
    {
     "name": "stderr",
     "output_type": "stream",
     "text": [
      "\u001b[32m2025-10-08 21:44:00.430\u001b[0m | \u001b[1mINFO    \u001b[0m | \u001b[36m__main__\u001b[0m:\u001b[36m<module>\u001b[0m:\u001b[36m5\u001b[0m - \u001b[1m\n",
      "Predicted mean cigarettes smoked (75th percentile price): 12.081676332900786\u001b[0m\n"
     ]
    }
   ],
   "source": [
    "higher_price = baseline.copy()\n",
    "higher_price['log_cigpric'] = np.log(p75_cigpric)\n",
    "\n",
    "higher_price_pred = poisson_model.predict(higher_price)\n",
    "logger.info(f\"\\nPredicted mean cigarettes smoked (75th percentile price): {higher_price_pred.iloc[0]}\")"
   ]
  },
  {
   "cell_type": "markdown",
   "id": "913221a4",
   "metadata": {},
   "source": [
    "###  Probability that a person per day smokes 5 or less cigarettes."
   ]
  },
  {
   "cell_type": "code",
   "execution_count": 68,
   "id": "4799f8af",
   "metadata": {},
   "outputs": [
    {
     "name": "stderr",
     "output_type": "stream",
     "text": [
      "\u001b[32m2025-10-08 21:44:00.439\u001b[0m | \u001b[1mINFO    \u001b[0m | \u001b[36m__main__\u001b[0m:\u001b[36m<module>\u001b[0m:\u001b[36m4\u001b[0m - \u001b[1mλ (baseline predicted mean): 12.229488591188288\u001b[0m\n"
     ]
    }
   ],
   "source": [
    "import math\n",
    "\n",
    "lambda_baseline = baseline_pred.iloc[0]\n",
    "logger.info(f\"λ (baseline predicted mean): {lambda_baseline}\")"
   ]
  },
  {
   "cell_type": "code",
   "execution_count": 69,
   "id": "f7241a13",
   "metadata": {},
   "outputs": [
    {
     "name": "stderr",
     "output_type": "stream",
     "text": [
      "\u001b[32m2025-10-08 21:44:00.449\u001b[0m | \u001b[1mINFO    \u001b[0m | \u001b[36m__main__\u001b[0m:\u001b[36m<module>\u001b[0m:\u001b[36m6\u001b[0m - \u001b[1mP(Y ≤ 5 cigarettes): 0.017605252622754943\u001b[0m\n"
     ]
    }
   ],
   "source": [
    "prob_5_or_less = sum(\n",
    "    math.exp(-lambda_baseline) * (lambda_baseline ** k) / math.factorial(k)\n",
    "    for k in range(0, 6)\n",
    ")\n",
    "\n",
    "logger.info(f\"P(Y ≤ 5 cigarettes): {prob_5_or_less}\")"
   ]
  }
 ],
 "metadata": {
  "kernelspec": {
   "display_name": "Python 3",
   "language": "python",
   "name": "python3"
  },
  "language_info": {
   "codemirror_mode": {
    "name": "ipython",
    "version": 3
   },
   "file_extension": ".py",
   "mimetype": "text/x-python",
   "name": "python",
   "nbconvert_exporter": "python",
   "pygments_lexer": "ipython3",
   "version": "3.13.5"
  }
 },
 "nbformat": 4,
 "nbformat_minor": 5
}
